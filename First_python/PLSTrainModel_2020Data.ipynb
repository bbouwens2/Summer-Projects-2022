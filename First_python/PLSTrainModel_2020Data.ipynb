{
 "cells": [
  {
   "cell_type": "code",
   "execution_count": 2,
   "id": "f274bd9c",
   "metadata": {},
   "outputs": [],
   "source": [
    "import numpy as np\n",
    "import pandas as pd\n",
    "import matplotlib.pyplot as plt \n",
    "from sklearn.preprocessing import scale\n",
    "from sklearn import model_selection \n",
    "from sklearn.model_selection import RepeatedKFold\n",
    "from sklearn.model_selection import train_test_split\n",
    "from sklearn.cross_decomposition import PLSRegression \n",
    "from sklearn.metrics import mean_squared_error\n",
    "from scipy.stats import linregress\n",
    "from sklearn.linear_model import LinearRegression\n",
    "from sklearn import datasets, linear_model\n",
    "from sklearn import preprocessing\n",
    "from sklearn.feature_selection import RFE\n",
    "import seaborn as sns\n",
    "import random as rnd"
   ]
  },
  {
   "cell_type": "code",
   "execution_count": 9,
   "id": "519062aa",
   "metadata": {},
   "outputs": [],
   "source": [
    "%matplotlib inline\n",
    "\n",
    "import pandas as pd\n",
    "import numpy as np\n",
    "import matplotlib.pyplot as plt\n",
    "\n",
    "from sklearn.preprocessing import scale \n",
    "from sklearn import model_selection\n",
    "from sklearn.decomposition import PCA\n",
    "from sklearn.linear_model import LinearRegression\n",
    "from sklearn.cross_decomposition import PLSRegression, PLSSVD\n",
    "from sklearn.metrics import mean_squared_error"
   ]
  },
  {
   "cell_type": "code",
   "execution_count": 3,
   "id": "a3278804",
   "metadata": {},
   "outputs": [],
   "source": [
    "data = pd.read_csv('Maize_2020.csv')"
   ]
  },
  {
   "cell_type": "code",
   "execution_count": 4,
   "id": "673a0402",
   "metadata": {},
   "outputs": [],
   "source": [
    "data = data[data.CHL.notnull()]"
   ]
  },
  {
   "cell_type": "code",
   "execution_count": 5,
   "id": "2fe266cd",
   "metadata": {},
   "outputs": [
    {
     "data": {
      "text/plain": [
       "428.700    2\n",
       "427.025    2\n",
       "471.550    2\n",
       "486.675    2\n",
       "445.250    2\n",
       "          ..\n",
       "296.675    1\n",
       "495.100    1\n",
       "460.100    1\n",
       "404.650    1\n",
       "401.250    1\n",
       "Name: CHL, Length: 312, dtype: int64"
      ]
     },
     "execution_count": 5,
     "metadata": {},
     "output_type": "execute_result"
    }
   ],
   "source": [
    "pd.value_counts(data.CHL, dropna=False)"
   ]
  },
  {
   "cell_type": "code",
   "execution_count": 6,
   "id": "0a14ca80",
   "metadata": {},
   "outputs": [],
   "source": [
    "col_filter = [col for col in data if col.startswith('X')]"
   ]
  },
  {
   "cell_type": "code",
   "execution_count": 7,
   "id": "3e26c8dc",
   "metadata": {},
   "outputs": [],
   "source": [
    "X = data[col_filter]\n",
    "y = data['CHL']\n"
   ]
  },
  {
   "cell_type": "code",
   "execution_count": 8,
   "id": "81320ee4",
   "metadata": {
    "scrolled": true
   },
   "outputs": [
    {
     "name": "stdout",
     "output_type": "stream",
     "text": [
      "          X350      X351      X352      X353      X354      X355      X356  \\\n",
      "0     0.066393  0.041197  0.046172  0.070903  0.072898  0.076800  0.076229   \n",
      "1     0.089343  0.047622  0.036665  0.063613  0.087790  0.076265  0.059558   \n",
      "2     0.073535  0.035367  0.028720  0.058362  0.078162  0.076759  0.070137   \n",
      "3     0.053849  0.013933  0.021878  0.062837  0.067202  0.072869  0.063967   \n",
      "4     0.075200  0.047947  0.038910  0.054962  0.071838  0.075585  0.066497   \n",
      "...        ...       ...       ...       ...       ...       ...       ...   \n",
      "1636  0.086108  0.081353  0.069357  0.066578  0.101631  0.085885  0.060648   \n",
      "1643  0.107635  0.088383  0.070858  0.075370  0.111884  0.094643  0.058673   \n",
      "1645  0.115502  0.108385  0.094599  0.092437  0.127469  0.118700  0.088778   \n",
      "1649  0.115839  0.081779  0.075903  0.100481  0.126021  0.114220  0.080029   \n",
      "1655  0.097722  0.085333  0.080176  0.081388  0.087126  0.091395  0.068312   \n",
      "\n",
      "          X357      X358      X359  ...     X2491     X2492     X2493  \\\n",
      "0     0.077193  0.094269  0.097625  ...  0.076210  0.076144  0.075867   \n",
      "1     0.060486  0.090054  0.090268  ...  0.083926  0.083274  0.082861   \n",
      "2     0.072471  0.091935  0.087597  ...  0.062543  0.061958  0.061579   \n",
      "3     0.053106  0.076691  0.067842  ...  0.077193  0.076936  0.076582   \n",
      "4     0.063452  0.095525  0.099429  ...  0.070101  0.069837  0.069617   \n",
      "...        ...       ...       ...  ...       ...       ...       ...   \n",
      "1636  0.054770  0.082188  0.094269  ...  0.043043  0.043060  0.042744   \n",
      "1643  0.043931  0.091941  0.100379  ...  0.038872  0.038490  0.038244   \n",
      "1645  0.068324  0.096784  0.108671  ...  0.064406  0.063901  0.063584   \n",
      "1649  0.054178  0.087045  0.101387  ...  0.042486  0.041760  0.041436   \n",
      "1655  0.034167  0.054285  0.080575  ...  0.038487  0.037704  0.037368   \n",
      "\n",
      "         X2494     X2495     X2496     X2497     X2498     X2499     X2500  \n",
      "0     0.075773  0.075515  0.074958  0.074545  0.074182  0.073884  0.073802  \n",
      "1     0.082943  0.082536  0.081516  0.081260  0.081504  0.081208  0.081202  \n",
      "2     0.061323  0.061225  0.061467  0.061353  0.061195  0.061081  0.060759  \n",
      "3     0.076728  0.076516  0.075703  0.075252  0.074950  0.074795  0.074900  \n",
      "4     0.069944  0.069658  0.068802  0.068408  0.067899  0.067480  0.067600  \n",
      "...        ...       ...       ...       ...       ...       ...       ...  \n",
      "1636  0.041884  0.041573  0.041442  0.041328  0.041702  0.041721  0.041484  \n",
      "1643  0.038411  0.038173  0.037371  0.037194  0.037288  0.037218  0.037615  \n",
      "1645  0.063678  0.063664  0.063643  0.063487  0.063558  0.063160  0.061917  \n",
      "1649  0.041248  0.041065  0.041263  0.041149  0.040729  0.040538  0.040378  \n",
      "1655  0.037215  0.037206  0.037790  0.037640  0.036956  0.036844  0.036644  \n",
      "\n",
      "[318 rows x 2151 columns]\n",
      "0       456.800\n",
      "1       268.475\n",
      "2       391.975\n",
      "3       488.650\n",
      "4       429.325\n",
      "         ...   \n",
      "1636    402.950\n",
      "1643    492.100\n",
      "1645    475.525\n",
      "1649    500.875\n",
      "1655    401.250\n",
      "Name: CHL, Length: 318, dtype: float64\n"
     ]
    }
   ],
   "source": [
    "print(X)\n",
    "print(y)"
   ]
  },
  {
   "cell_type": "code",
   "execution_count": 10,
   "id": "651aa42b",
   "metadata": {},
   "outputs": [],
   "source": [
    "pca = PCA()\n",
    "X_reduced = pca.fit_transform(scale(X))"
   ]
  },
  {
   "cell_type": "code",
   "execution_count": 11,
   "id": "6f2e1358",
   "metadata": {},
   "outputs": [
    {
     "data": {
      "text/html": [
       "<div>\n",
       "<style scoped>\n",
       "    .dataframe tbody tr th:only-of-type {\n",
       "        vertical-align: middle;\n",
       "    }\n",
       "\n",
       "    .dataframe tbody tr th {\n",
       "        vertical-align: top;\n",
       "    }\n",
       "\n",
       "    .dataframe thead th {\n",
       "        text-align: right;\n",
       "    }\n",
       "</style>\n",
       "<table border=\"1\" class=\"dataframe\">\n",
       "  <thead>\n",
       "    <tr style=\"text-align: right;\">\n",
       "      <th></th>\n",
       "      <th>0</th>\n",
       "      <th>1</th>\n",
       "      <th>2</th>\n",
       "      <th>3</th>\n",
       "      <th>4</th>\n",
       "      <th>5</th>\n",
       "    </tr>\n",
       "  </thead>\n",
       "  <tbody>\n",
       "    <tr>\n",
       "      <th>0</th>\n",
       "      <td>-0.001196</td>\n",
       "      <td>-0.001424</td>\n",
       "      <td>0.016817</td>\n",
       "      <td>0.043293</td>\n",
       "      <td>-0.017776</td>\n",
       "      <td>-0.215791</td>\n",
       "    </tr>\n",
       "    <tr>\n",
       "      <th>1</th>\n",
       "      <td>0.004382</td>\n",
       "      <td>-0.006270</td>\n",
       "      <td>0.010405</td>\n",
       "      <td>0.037568</td>\n",
       "      <td>-0.154993</td>\n",
       "      <td>-0.143470</td>\n",
       "    </tr>\n",
       "    <tr>\n",
       "      <th>2</th>\n",
       "      <td>0.000294</td>\n",
       "      <td>-0.008340</td>\n",
       "      <td>0.014977</td>\n",
       "      <td>0.051162</td>\n",
       "      <td>-0.157394</td>\n",
       "      <td>-0.061261</td>\n",
       "    </tr>\n",
       "    <tr>\n",
       "      <th>3</th>\n",
       "      <td>-0.004654</td>\n",
       "      <td>-0.004934</td>\n",
       "      <td>0.024892</td>\n",
       "      <td>0.065327</td>\n",
       "      <td>-0.035700</td>\n",
       "      <td>-0.061890</td>\n",
       "    </tr>\n",
       "    <tr>\n",
       "      <th>4</th>\n",
       "      <td>0.001502</td>\n",
       "      <td>-0.007512</td>\n",
       "      <td>0.031674</td>\n",
       "      <td>0.064267</td>\n",
       "      <td>-0.053902</td>\n",
       "      <td>-0.104277</td>\n",
       "    </tr>\n",
       "  </tbody>\n",
       "</table>\n",
       "</div>"
      ],
      "text/plain": [
       "          0         1         2         3         4         5\n",
       "0 -0.001196 -0.001424  0.016817  0.043293 -0.017776 -0.215791\n",
       "1  0.004382 -0.006270  0.010405  0.037568 -0.154993 -0.143470\n",
       "2  0.000294 -0.008340  0.014977  0.051162 -0.157394 -0.061261\n",
       "3 -0.004654 -0.004934  0.024892  0.065327 -0.035700 -0.061890\n",
       "4  0.001502 -0.007512  0.031674  0.064267 -0.053902 -0.104277"
      ]
     },
     "execution_count": 11,
     "metadata": {},
     "output_type": "execute_result"
    }
   ],
   "source": [
    "pd.DataFrame(pca.components_.T).loc[:4,:5]"
   ]
  },
  {
   "cell_type": "code",
   "execution_count": 12,
   "id": "d396aaff",
   "metadata": {
    "scrolled": true
   },
   "outputs": [
    {
     "data": {
      "image/png": "[encoded data removed]",
      "text/plain": [
       "<Figure size 432x288 with 1 Axes>"
      ]
     },
     "metadata": {
      "needs_background": "light"
     },
     "output_type": "display_data"
    }
   ],
   "source": [
    "n = len(X_reduced)\n",
    "kf_10 = model_selection.KFold( n_splits=10, shuffle=True, random_state=1)\n",
    "\n",
    "regr = LinearRegression()\n",
    "mse = []\n",
    "\n",
    "# Calculate MSE with only the intercept (no principal components in regression)\n",
    "score = -1*model_selection.cross_val_score(regr, np.ones((n,1)), y.ravel(), cv=kf_10, scoring='neg_mean_squared_error').mean()    \n",
    "mse.append(score)\n",
    "\n",
    "# Calculate MSE using CV for the 19 principle components, adding one component at the time.\n",
    "for i in np.arange(1, 20):\n",
    "    score = -1*model_selection.cross_val_score(regr, X_reduced[:,:i], y.ravel(), cv=kf_10, scoring='neg_mean_squared_error').mean()\n",
    "    mse.append(score)\n",
    "    \n",
    "plt.plot(mse, '-v')\n",
    "plt.xlabel('Number of principal components in regression')\n",
    "plt.ylabel('MSE')\n",
    "plt.title('Predictions')\n",
    "plt.xlim(xmin=-1);"
   ]
  },
  {
   "cell_type": "code",
   "execution_count": 13,
   "id": "6c6ff5d8",
   "metadata": {},
   "outputs": [
    {
     "data": {
      "text/plain": [
       "array([80.97, 92.16, 96.47, 97.65, 98.13, 98.36, 98.53, 98.68, 98.81,\n",
       "       98.93, 99.04, 99.14, 99.23, 99.3 , 99.37, 99.43, 99.48, 99.52,\n",
       "       99.56, 99.6 , 99.64, 99.67, 99.7 , 99.73, 99.75, 99.77, 99.79,\n",
       "       99.81, 99.82, 99.83, 99.84, 99.85, 99.86, 99.87, 99.88, 99.89,\n",
       "       99.9 , 99.91, 99.92, 99.93, 99.94, 99.95, 99.96, 99.97, 99.97,\n",
       "       99.97, 99.97, 99.97, 99.97, 99.97, 99.97, 99.97, 99.97, 99.97,\n",
       "       99.97, 99.97, 99.97, 99.97, 99.97, 99.97, 99.97, 99.97, 99.97,\n",
       "       99.97, 99.97, 99.97, 99.97, 99.97, 99.97, 99.97, 99.97, 99.97,\n",
       "       99.97, 99.97, 99.97, 99.97, 99.97, 99.97, 99.97, 99.97, 99.97,\n",
       "       99.97, 99.97, 99.97, 99.97, 99.97, 99.97, 99.97, 99.97, 99.97,\n",
       "       99.97, 99.97, 99.97, 99.97, 99.97, 99.97, 99.97, 99.97, 99.97,\n",
       "       99.97, 99.97, 99.97, 99.97, 99.97, 99.97, 99.97, 99.97, 99.97,\n",
       "       99.97, 99.97, 99.97, 99.97, 99.97, 99.97, 99.97, 99.97, 99.97,\n",
       "       99.97, 99.97, 99.97, 99.97, 99.97, 99.97, 99.97, 99.97, 99.97,\n",
       "       99.97, 99.97, 99.97, 99.97, 99.97, 99.97, 99.97, 99.97, 99.97,\n",
       "       99.97, 99.97, 99.97, 99.97, 99.97, 99.97, 99.97, 99.97, 99.97,\n",
       "       99.97, 99.97, 99.97, 99.97, 99.97, 99.97, 99.97, 99.97, 99.97,\n",
       "       99.97, 99.97, 99.97, 99.97, 99.97, 99.97, 99.97, 99.97, 99.97,\n",
       "       99.97, 99.97, 99.97, 99.97, 99.97, 99.97, 99.97, 99.97, 99.97,\n",
       "       99.97, 99.97, 99.97, 99.97, 99.97, 99.97, 99.97, 99.97, 99.97,\n",
       "       99.97, 99.97, 99.97, 99.97, 99.97, 99.97, 99.97, 99.97, 99.97,\n",
       "       99.97, 99.97, 99.97, 99.97, 99.97, 99.97, 99.97, 99.97, 99.97,\n",
       "       99.97, 99.97, 99.97, 99.97, 99.97, 99.97, 99.97, 99.97, 99.97,\n",
       "       99.97, 99.97, 99.97, 99.97, 99.97, 99.97, 99.97, 99.97, 99.97,\n",
       "       99.97, 99.97, 99.97, 99.97, 99.97, 99.97, 99.97, 99.97, 99.97,\n",
       "       99.97, 99.97, 99.97, 99.97, 99.97, 99.97, 99.97, 99.97, 99.97,\n",
       "       99.97, 99.97, 99.97, 99.97, 99.97, 99.97, 99.97, 99.97, 99.97,\n",
       "       99.97, 99.97, 99.97, 99.97, 99.97, 99.97, 99.97, 99.97, 99.97,\n",
       "       99.97, 99.97, 99.97, 99.97, 99.97, 99.97, 99.97, 99.97, 99.97,\n",
       "       99.97, 99.97, 99.97, 99.97, 99.97, 99.97, 99.97, 99.97, 99.97,\n",
       "       99.97, 99.97, 99.97, 99.97, 99.97, 99.97, 99.97, 99.97, 99.97,\n",
       "       99.97, 99.97, 99.97, 99.97, 99.97, 99.97, 99.97, 99.97, 99.97,\n",
       "       99.97, 99.97, 99.97, 99.97, 99.97, 99.97, 99.97, 99.97, 99.97,\n",
       "       99.97, 99.97, 99.97, 99.97, 99.97, 99.97, 99.97, 99.97, 99.97,\n",
       "       99.97, 99.97, 99.97, 99.97, 99.97, 99.97, 99.97, 99.97, 99.97,\n",
       "       99.97, 99.97, 99.97])"
      ]
     },
     "execution_count": 13,
     "metadata": {},
     "output_type": "execute_result"
    }
   ],
   "source": [
    "np.cumsum(np.round(pca.explained_variance_ratio_, decimals=4)*100)"
   ]
  },
  {
   "cell_type": "code",
   "execution_count": 30,
   "id": "0157ac4e",
   "metadata": {},
   "outputs": [
    {
     "data": {
      "image/png": "[encoded data removed]",
      "text/plain": [
       "<Figure size 432x288 with 1 Axes>"
      ]
     },
     "metadata": {
      "needs_background": "light"
     },
     "output_type": "display_data"
    }
   ],
   "source": [
    "pca2 = PCA()\n",
    "\n",
    "# Split into training and test sets\n",
    "X_train, X_test , y_train, y_test = model_selection.train_test_split(X, y, test_size=0.5, random_state=1)\n",
    "\n",
    "# Scale the data\n",
    "X_reduced_train = pca2.fit_transform(scale(X_train))\n",
    "n = len(X_reduced_train)\n",
    "\n",
    "# 10-fold CV, with shuffle\n",
    "kf_10 = model_selection.KFold( n_splits=10, shuffle=True, random_state=1)\n",
    "\n",
    "mse = []\n",
    "\n",
    "# Calculate MSE with only the intercept (no principal components in regression)\n",
    "score = -1*model_selection.cross_val_score(regr, np.ones((n,1)), y_train.ravel(), cv=kf_10, scoring='neg_mean_squared_error').mean()    \n",
    "mse.append(score)\n",
    "\n",
    "# Calculate MSE using CV for the 19 principle components, adding one component at the time.\n",
    "for i in np.arange(1, 20):\n",
    "    score = -1*model_selection.cross_val_score(regr, X_reduced_train[:,:i], y_train.ravel(), cv=kf_10, scoring='neg_mean_squared_error').mean()\n",
    "    mse.append(score)\n",
    "\n",
    "plt.plot(np.array(mse), '-v')\n",
    "plt.xlabel('Number of principal components in regression')\n",
    "plt.ylabel('MSE')\n",
    "plt.title('Predictions')\n",
    "plt.xlim(xmin=-1);\n"
   ]
  },
  {
   "cell_type": "code",
   "execution_count": 31,
   "id": "d11d826d",
   "metadata": {},
   "outputs": [
    {
     "data": {
      "text/plain": [
       "1172.9796884145212"
      ]
     },
     "execution_count": 31,
     "metadata": {},
     "output_type": "execute_result"
    }
   ],
   "source": [
    "X_reduced_test = pca2.transform(scale(X_test))[:,:7]\n",
    "\n",
    "# Train regression model on training data \n",
    "regr = LinearRegression()\n",
    "regr.fit(X_reduced_train[:,:7], y_train)\n",
    "\n",
    "# Prediction with test data\n",
    "pred = regr.predict(X_reduced_test)\n",
    "mean_squared_error(y_test, pred)\n",
    "\n"
   ]
  },
  {
   "cell_type": "code",
   "execution_count": 17,
   "id": "ad3d5fb2",
   "metadata": {},
   "outputs": [
    {
     "data": {
      "text/plain": [
       "(-1.0, 19.9)"
      ]
     },
     "execution_count": 17,
     "metadata": {},
     "output_type": "execute_result"
    },
    {
     "data": {
      "image/png": "[encoded data removed]",
      "text/plain": [
       "<Figure size 432x288 with 1 Axes>"
      ]
     },
     "metadata": {
      "needs_background": "light"
     },
     "output_type": "display_data"
    }
   ],
   "source": [
    "n = len(X_train)\n",
    "\n",
    "# 10-fold CV, with shuffle\n",
    "kf_10 = model_selection.KFold(n_splits=10, shuffle=True, random_state=1)\n",
    "\n",
    "mse = []\n",
    "\n",
    "for i in np.arange(1, 20):\n",
    "    pls = PLSRegression(n_components=i)\n",
    "    score = model_selection.cross_val_score(pls, scale(X_train), y_train, cv=kf_10, scoring='neg_mean_squared_error').mean()\n",
    "    mse.append(-score)\n",
    "\n",
    "# Plot results\n",
    "plt.plot(np.arange(1, 20), np.array(mse), '-v')\n",
    "plt.xlabel('Number of principal components in regression')\n",
    "plt.ylabel('MSE')\n",
    "plt.title('Predictions')\n",
    "plt.xlim(xmin=-1)\n",
    "\n"
   ]
  },
  {
   "cell_type": "code",
   "execution_count": 22,
   "id": "ec680a9d",
   "metadata": {},
   "outputs": [
    {
     "data": {
      "text/plain": [
       "971.1164639559934"
      ]
     },
     "execution_count": 22,
     "metadata": {},
     "output_type": "execute_result"
    }
   ],
   "source": [
    "pls = PLSRegression(n_components=7)\n",
    "pls.fit(scale(X_train), y_train)\n",
    "\n",
    "mean_squared_error(y_test, pls.predict(scale(X_test)))"
   ]
  },
  {
   "cell_type": "code",
   "execution_count": 23,
   "id": "a7feda86",
   "metadata": {},
   "outputs": [
    {
     "data": {
      "text/plain": [
       "(-1.0, 19.9)"
      ]
     },
     "execution_count": 23,
     "metadata": {},
     "output_type": "execute_result"
    },
    {
     "data": {
      "image/png": "[encoded data removed]",
      "text/plain": [
       "<Figure size 432x288 with 1 Axes>"
      ]
     },
     "metadata": {
      "needs_background": "light"
     },
     "output_type": "display_data"
    }
   ],
   "source": [
    "n = len(X_train)\n",
    "\n",
    "# 10-fold CV, with shuffle\n",
    "kf_10 = model_selection.KFold(n_splits=10, shuffle=True, random_state=1)\n",
    "\n",
    "mse = []\n",
    "\n",
    "for i in np.arange(1, 20):\n",
    "    pls = PLSRegression(n_components=i)\n",
    "    score = model_selection.cross_val_score(pls, scale(X_train), y_train, cv=kf_10, scoring='neg_mean_squared_error').mean()\n",
    "    mse.append(-score)\n",
    "\n",
    "# Plot results\n",
    "plt.plot(np.arange(1, 20), np.array(mse), '-v')\n",
    "plt.xlabel('Number of principal components in regression')\n",
    "plt.ylabel('MSE')\n",
    "plt.title('Predictions')\n",
    "plt.xlim(xmin=-1)"
   ]
  },
  {
   "cell_type": "code",
   "execution_count": 32,
   "id": "99dd9ba1",
   "metadata": {},
   "outputs": [
    {
     "data": {
      "text/plain": [
       "971.1164639559934"
      ]
     },
     "execution_count": 32,
     "metadata": {},
     "output_type": "execute_result"
    }
   ],
   "source": [
    "pls = PLSRegression(n_components=7)\n",
    "pls.fit(scale(X_train), y_train)\n",
    "\n",
    "mean_squared_error(y_test, pls.predict(scale(X_test)))"
   ]
  },
  {
   "cell_type": "code",
   "execution_count": 33,
   "id": "d1036ced",
   "metadata": {},
   "outputs": [
    {
     "name": "stderr",
     "output_type": "stream",
     "text": [
      "/home/schnablelab-guest/anaconda3/lib/python3.9/site-packages/sklearn/base.py:443: UserWarning: X has feature names, but PLSRegression was fitted without feature names\n",
      "  warnings.warn(\n"
     ]
    }
   ],
   "source": [
    "y_pred = pls.predict(X_test)"
   ]
  },
  {
   "cell_type": "code",
   "execution_count": 39,
   "id": "f2621591",
   "metadata": {},
   "outputs": [
    {
     "data": {
      "text/plain": [
       "Text(0, 0.5, 'Predicted CHL Values')"
      ]
     },
     "execution_count": 39,
     "metadata": {},
     "output_type": "execute_result"
    },
    {
     "data": {
      "image/png": "[encoded data removed]",
      "text/plain": [
       "<Figure size 432x288 with 1 Axes>"
      ]
     },
     "metadata": {
      "needs_background": "light"
     },
     "output_type": "display_data"
    }
   ],
   "source": [
    "plt.scatter(y_test, y_pred)\n",
    "plt.xlabel('CHL Values')\n",
    "plt.ylabel('Predicted CHL Values')\n",
    "abline(lm(y_perd ~ y_test, data = mtcars), col = \"blue\""
   ]
  },
  {
   "cell_type": "code",
   "execution_count": 40,
   "id": "92d4028d",
   "metadata": {},
   "outputs": [
    {
     "name": "stderr",
     "output_type": "stream",
     "text": [
      "/home/schnablelab-guest/anaconda3/lib/python3.9/site-packages/seaborn/_decorators.py:36: FutureWarning: Pass the following variables as keyword args: x, y. From version 0.12, the only valid positional argument will be `data`, and passing other arguments without an explicit keyword will result in an error or misinterpretation.\n",
      "  warnings.warn(\n"
     ]
    },
    {
     "data": {
      "text/plain": [
       "<AxesSubplot:xlabel='CHL'>"
      ]
     },
     "execution_count": 40,
     "metadata": {},
     "output_type": "execute_result"
    },
    {
     "data": {
      "image/png": "[encoded data removed]",
      "text/plain": [
       "<Figure size 432x288 with 1 Axes>"
      ]
     },
     "metadata": {
      "needs_background": "light"
     },
     "output_type": "display_data"
    }
   ],
   "source": [
    "sns.regplot(y_test, y_pred, ci=None)"
   ]
  }
 ],
 "metadata": {
  "kernelspec": {
   "display_name": "Python 3 (ipykernel)",
   "language": "python",
   "name": "python3"
  },
  "language_info": {
   "codemirror_mode": {
    "name": "ipython",
    "version": 3
   },
   "file_extension": ".py",
   "mimetype": "text/x-python",
   "name": "python",
   "nbconvert_exporter": "python",
   "pygments_lexer": "ipython3",
   "version": "3.9.12"
  }
 },
 "nbformat": 4,
 "nbformat_minor": 5
}
