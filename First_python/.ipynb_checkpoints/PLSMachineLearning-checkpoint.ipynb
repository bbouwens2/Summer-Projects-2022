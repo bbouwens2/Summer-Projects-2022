{
 "cells": [
  {
   "cell_type": "code",
   "execution_count": 188,
   "id": "4bbbf870",
   "metadata": {},
   "outputs": [],
   "source": [
    "import numpy as np\n",
    "import pandas as pd\n",
    "import matplotlib.pyplot as plt \n",
    "from sklearn.preprocessing import scale\n",
    "from sklearn import model_selection \n",
    "from sklearn.model_selection import RepeatedKFold\n",
    "from sklearn.model_selection import train_test_split\n",
    "from sklearn.cross_decomposition import PLSRegression \n",
    "from sklearn.metrics import mean_squared_error\n",
    "from scipy.stats import linregress\n",
    "from sklearn.linear_model import LinearRegression\n",
    "from sklearn import datasets, linear_model\n",
    "from sklearn import preprocessing\n",
    "from sklearn.feature_selection import RFE\n",
    "import seaborn as sns\n",
    "import random as rnd"
   ]
  },
  {
   "cell_type": "code",
   "execution_count": 189,
   "id": "a6822c80",
   "metadata": {},
   "outputs": [],
   "source": [
    "data = pd.read_csv('Maize_2020.csv')"
   ]
  },
  {
   "cell_type": "code",
   "execution_count": 190,
   "id": "41a5ebcf",
   "metadata": {},
   "outputs": [
    {
     "data": {
      "text/html": [
       "<div>\n",
       "<style scoped>\n",
       "    .dataframe tbody tr th:only-of-type {\n",
       "        vertical-align: middle;\n",
       "    }\n",
       "\n",
       "    .dataframe tbody tr th {\n",
       "        vertical-align: top;\n",
       "    }\n",
       "\n",
       "    .dataframe thead th {\n",
       "        text-align: right;\n",
       "    }\n",
       "</style>\n",
       "<table border=\"1\" class=\"dataframe\">\n",
       "  <thead>\n",
       "    <tr style=\"text-align: right;\">\n",
       "      <th></th>\n",
       "      <th>Unnamed: 0</th>\n",
       "      <th>crop</th>\n",
       "      <th>PlotID</th>\n",
       "      <th>year</th>\n",
       "      <th>trt</th>\n",
       "      <th>pheno</th>\n",
       "      <th>CHL</th>\n",
       "      <th>EWT</th>\n",
       "      <th>LWC</th>\n",
       "      <th>SLA</th>\n",
       "      <th>...</th>\n",
       "      <th>X2491</th>\n",
       "      <th>X2492</th>\n",
       "      <th>X2493</th>\n",
       "      <th>X2494</th>\n",
       "      <th>X2495</th>\n",
       "      <th>X2496</th>\n",
       "      <th>X2497</th>\n",
       "      <th>X2498</th>\n",
       "      <th>X2499</th>\n",
       "      <th>X2500</th>\n",
       "    </tr>\n",
       "  </thead>\n",
       "  <tbody>\n",
       "    <tr>\n",
       "      <th>0</th>\n",
       "      <td>1269</td>\n",
       "      <td>maize</td>\n",
       "      <td>1001</td>\n",
       "      <td>2020</td>\n",
       "      <td>HN</td>\n",
       "      <td>yes</td>\n",
       "      <td>456.800</td>\n",
       "      <td>0.016142</td>\n",
       "      <td>0.728814</td>\n",
       "      <td>166.488281</td>\n",
       "      <td>...</td>\n",
       "      <td>0.076210</td>\n",
       "      <td>0.076144</td>\n",
       "      <td>0.075867</td>\n",
       "      <td>0.075773</td>\n",
       "      <td>0.075515</td>\n",
       "      <td>0.074958</td>\n",
       "      <td>0.074545</td>\n",
       "      <td>0.074182</td>\n",
       "      <td>0.073884</td>\n",
       "      <td>0.073802</td>\n",
       "    </tr>\n",
       "    <tr>\n",
       "      <th>1</th>\n",
       "      <td>1270</td>\n",
       "      <td>maize</td>\n",
       "      <td>1002</td>\n",
       "      <td>2020</td>\n",
       "      <td>HN</td>\n",
       "      <td>yes</td>\n",
       "      <td>268.475</td>\n",
       "      <td>0.015019</td>\n",
       "      <td>0.705036</td>\n",
       "      <td>159.146341</td>\n",
       "      <td>...</td>\n",
       "      <td>0.083926</td>\n",
       "      <td>0.083274</td>\n",
       "      <td>0.082861</td>\n",
       "      <td>0.082943</td>\n",
       "      <td>0.082536</td>\n",
       "      <td>0.081516</td>\n",
       "      <td>0.081260</td>\n",
       "      <td>0.081504</td>\n",
       "      <td>0.081208</td>\n",
       "      <td>0.081202</td>\n",
       "    </tr>\n",
       "    <tr>\n",
       "      <th>2</th>\n",
       "      <td>1271</td>\n",
       "      <td>maize</td>\n",
       "      <td>1003</td>\n",
       "      <td>2020</td>\n",
       "      <td>HN</td>\n",
       "      <td>yes</td>\n",
       "      <td>391.975</td>\n",
       "      <td>0.016189</td>\n",
       "      <td>0.767030</td>\n",
       "      <td>203.368421</td>\n",
       "      <td>...</td>\n",
       "      <td>0.062543</td>\n",
       "      <td>0.061958</td>\n",
       "      <td>0.061579</td>\n",
       "      <td>0.061323</td>\n",
       "      <td>0.061225</td>\n",
       "      <td>0.061467</td>\n",
       "      <td>0.061353</td>\n",
       "      <td>0.061195</td>\n",
       "      <td>0.061081</td>\n",
       "      <td>0.060759</td>\n",
       "    </tr>\n",
       "    <tr>\n",
       "      <th>3</th>\n",
       "      <td>1272</td>\n",
       "      <td>maize</td>\n",
       "      <td>1004</td>\n",
       "      <td>2020</td>\n",
       "      <td>HN</td>\n",
       "      <td>yes</td>\n",
       "      <td>488.650</td>\n",
       "      <td>0.016668</td>\n",
       "      <td>0.780142</td>\n",
       "      <td>212.887097</td>\n",
       "      <td>...</td>\n",
       "      <td>0.077193</td>\n",
       "      <td>0.076936</td>\n",
       "      <td>0.076582</td>\n",
       "      <td>0.076728</td>\n",
       "      <td>0.076516</td>\n",
       "      <td>0.075703</td>\n",
       "      <td>0.075252</td>\n",
       "      <td>0.074950</td>\n",
       "      <td>0.074795</td>\n",
       "      <td>0.074900</td>\n",
       "    </tr>\n",
       "    <tr>\n",
       "      <th>4</th>\n",
       "      <td>1273</td>\n",
       "      <td>maize</td>\n",
       "      <td>1005</td>\n",
       "      <td>2020</td>\n",
       "      <td>HN</td>\n",
       "      <td>yes</td>\n",
       "      <td>429.325</td>\n",
       "      <td>0.015147</td>\n",
       "      <td>0.719752</td>\n",
       "      <td>169.557196</td>\n",
       "      <td>...</td>\n",
       "      <td>0.070101</td>\n",
       "      <td>0.069837</td>\n",
       "      <td>0.069617</td>\n",
       "      <td>0.069944</td>\n",
       "      <td>0.069658</td>\n",
       "      <td>0.068802</td>\n",
       "      <td>0.068408</td>\n",
       "      <td>0.067899</td>\n",
       "      <td>0.067480</td>\n",
       "      <td>0.067600</td>\n",
       "    </tr>\n",
       "    <tr>\n",
       "      <th>5</th>\n",
       "      <td>1274</td>\n",
       "      <td>maize</td>\n",
       "      <td>1006</td>\n",
       "      <td>2020</td>\n",
       "      <td>HN</td>\n",
       "      <td>yes</td>\n",
       "      <td>388.900</td>\n",
       "      <td>0.011394</td>\n",
       "      <td>0.710443</td>\n",
       "      <td>215.344262</td>\n",
       "      <td>...</td>\n",
       "      <td>0.088581</td>\n",
       "      <td>0.088296</td>\n",
       "      <td>0.087942</td>\n",
       "      <td>0.087314</td>\n",
       "      <td>0.086973</td>\n",
       "      <td>0.086866</td>\n",
       "      <td>0.086534</td>\n",
       "      <td>0.086168</td>\n",
       "      <td>0.085974</td>\n",
       "      <td>0.085730</td>\n",
       "    </tr>\n",
       "  </tbody>\n",
       "</table>\n",
       "<p>6 rows × 2172 columns</p>\n",
       "</div>"
      ],
      "text/plain": [
       "   Unnamed: 0   crop  PlotID  year trt pheno      CHL       EWT       LWC  \\\n",
       "0        1269  maize    1001  2020  HN   yes  456.800  0.016142  0.728814   \n",
       "1        1270  maize    1002  2020  HN   yes  268.475  0.015019  0.705036   \n",
       "2        1271  maize    1003  2020  HN   yes  391.975  0.016189  0.767030   \n",
       "3        1272  maize    1004  2020  HN   yes  488.650  0.016668  0.780142   \n",
       "4        1273  maize    1005  2020  HN   yes  429.325  0.015147  0.719752   \n",
       "5        1274  maize    1006  2020  HN   yes  388.900  0.011394  0.710443   \n",
       "\n",
       "          SLA  ...     X2491     X2492     X2493     X2494     X2495  \\\n",
       "0  166.488281  ...  0.076210  0.076144  0.075867  0.075773  0.075515   \n",
       "1  159.146341  ...  0.083926  0.083274  0.082861  0.082943  0.082536   \n",
       "2  203.368421  ...  0.062543  0.061958  0.061579  0.061323  0.061225   \n",
       "3  212.887097  ...  0.077193  0.076936  0.076582  0.076728  0.076516   \n",
       "4  169.557196  ...  0.070101  0.069837  0.069617  0.069944  0.069658   \n",
       "5  215.344262  ...  0.088581  0.088296  0.087942  0.087314  0.086973   \n",
       "\n",
       "      X2496     X2497     X2498     X2499     X2500  \n",
       "0  0.074958  0.074545  0.074182  0.073884  0.073802  \n",
       "1  0.081516  0.081260  0.081504  0.081208  0.081202  \n",
       "2  0.061467  0.061353  0.061195  0.061081  0.060759  \n",
       "3  0.075703  0.075252  0.074950  0.074795  0.074900  \n",
       "4  0.068802  0.068408  0.067899  0.067480  0.067600  \n",
       "5  0.086866  0.086534  0.086168  0.085974  0.085730  \n",
       "\n",
       "[6 rows x 2172 columns]"
      ]
     },
     "execution_count": 190,
     "metadata": {},
     "output_type": "execute_result"
    }
   ],
   "source": [
    "data[0:6]"
   ]
  },
  {
   "cell_type": "code",
   "execution_count": 191,
   "id": "36a33dff",
   "metadata": {},
   "outputs": [],
   "source": [
    "data = data[data.CHL.notnull()]"
   ]
  },
  {
   "cell_type": "code",
   "execution_count": 192,
   "id": "202fd88e",
   "metadata": {},
   "outputs": [
    {
     "data": {
      "text/plain": [
       "428.700    2\n",
       "427.025    2\n",
       "471.550    2\n",
       "486.675    2\n",
       "445.250    2\n",
       "          ..\n",
       "296.675    1\n",
       "495.100    1\n",
       "460.100    1\n",
       "404.650    1\n",
       "401.250    1\n",
       "Name: CHL, Length: 312, dtype: int64"
      ]
     },
     "execution_count": 192,
     "metadata": {},
     "output_type": "execute_result"
    }
   ],
   "source": [
    "pd.value_counts(data.CHL, dropna=False)"
   ]
  },
  {
   "cell_type": "code",
   "execution_count": 193,
   "id": "fc433d45",
   "metadata": {},
   "outputs": [],
   "source": [
    "col_filter = [col for col in data if col.startswith('X')]"
   ]
  },
  {
   "cell_type": "code",
   "execution_count": 194,
   "id": "19fba28a",
   "metadata": {},
   "outputs": [],
   "source": [
    "X = data[col_filter]\n",
    "y = data['CHL']"
   ]
  },
  {
   "cell_type": "code",
   "execution_count": 195,
   "id": "ac0f1bc7",
   "metadata": {},
   "outputs": [
    {
     "data": {
      "text/html": [
       "<div>\n",
       "<style scoped>\n",
       "    .dataframe tbody tr th:only-of-type {\n",
       "        vertical-align: middle;\n",
       "    }\n",
       "\n",
       "    .dataframe tbody tr th {\n",
       "        vertical-align: top;\n",
       "    }\n",
       "\n",
       "    .dataframe thead th {\n",
       "        text-align: right;\n",
       "    }\n",
       "</style>\n",
       "<table border=\"1\" class=\"dataframe\">\n",
       "  <thead>\n",
       "    <tr style=\"text-align: right;\">\n",
       "      <th></th>\n",
       "      <th>X350</th>\n",
       "      <th>X351</th>\n",
       "      <th>X352</th>\n",
       "      <th>X353</th>\n",
       "      <th>X354</th>\n",
       "      <th>X355</th>\n",
       "      <th>X356</th>\n",
       "      <th>X357</th>\n",
       "      <th>X358</th>\n",
       "      <th>X359</th>\n",
       "      <th>...</th>\n",
       "      <th>X2491</th>\n",
       "      <th>X2492</th>\n",
       "      <th>X2493</th>\n",
       "      <th>X2494</th>\n",
       "      <th>X2495</th>\n",
       "      <th>X2496</th>\n",
       "      <th>X2497</th>\n",
       "      <th>X2498</th>\n",
       "      <th>X2499</th>\n",
       "      <th>X2500</th>\n",
       "    </tr>\n",
       "  </thead>\n",
       "  <tbody>\n",
       "    <tr>\n",
       "      <th>0</th>\n",
       "      <td>0.066393</td>\n",
       "      <td>0.041197</td>\n",
       "      <td>0.046172</td>\n",
       "      <td>0.070903</td>\n",
       "      <td>0.072898</td>\n",
       "      <td>0.076800</td>\n",
       "      <td>0.076229</td>\n",
       "      <td>0.077193</td>\n",
       "      <td>0.094269</td>\n",
       "      <td>0.097625</td>\n",
       "      <td>...</td>\n",
       "      <td>0.076210</td>\n",
       "      <td>0.076144</td>\n",
       "      <td>0.075867</td>\n",
       "      <td>0.075773</td>\n",
       "      <td>0.075515</td>\n",
       "      <td>0.074958</td>\n",
       "      <td>0.074545</td>\n",
       "      <td>0.074182</td>\n",
       "      <td>0.073884</td>\n",
       "      <td>0.073802</td>\n",
       "    </tr>\n",
       "    <tr>\n",
       "      <th>1</th>\n",
       "      <td>0.089343</td>\n",
       "      <td>0.047622</td>\n",
       "      <td>0.036665</td>\n",
       "      <td>0.063613</td>\n",
       "      <td>0.087790</td>\n",
       "      <td>0.076265</td>\n",
       "      <td>0.059558</td>\n",
       "      <td>0.060486</td>\n",
       "      <td>0.090054</td>\n",
       "      <td>0.090268</td>\n",
       "      <td>...</td>\n",
       "      <td>0.083926</td>\n",
       "      <td>0.083274</td>\n",
       "      <td>0.082861</td>\n",
       "      <td>0.082943</td>\n",
       "      <td>0.082536</td>\n",
       "      <td>0.081516</td>\n",
       "      <td>0.081260</td>\n",
       "      <td>0.081504</td>\n",
       "      <td>0.081208</td>\n",
       "      <td>0.081202</td>\n",
       "    </tr>\n",
       "    <tr>\n",
       "      <th>2</th>\n",
       "      <td>0.073535</td>\n",
       "      <td>0.035367</td>\n",
       "      <td>0.028720</td>\n",
       "      <td>0.058362</td>\n",
       "      <td>0.078162</td>\n",
       "      <td>0.076759</td>\n",
       "      <td>0.070137</td>\n",
       "      <td>0.072471</td>\n",
       "      <td>0.091935</td>\n",
       "      <td>0.087597</td>\n",
       "      <td>...</td>\n",
       "      <td>0.062543</td>\n",
       "      <td>0.061958</td>\n",
       "      <td>0.061579</td>\n",
       "      <td>0.061323</td>\n",
       "      <td>0.061225</td>\n",
       "      <td>0.061467</td>\n",
       "      <td>0.061353</td>\n",
       "      <td>0.061195</td>\n",
       "      <td>0.061081</td>\n",
       "      <td>0.060759</td>\n",
       "    </tr>\n",
       "    <tr>\n",
       "      <th>3</th>\n",
       "      <td>0.053849</td>\n",
       "      <td>0.013933</td>\n",
       "      <td>0.021878</td>\n",
       "      <td>0.062837</td>\n",
       "      <td>0.067202</td>\n",
       "      <td>0.072869</td>\n",
       "      <td>0.063967</td>\n",
       "      <td>0.053106</td>\n",
       "      <td>0.076691</td>\n",
       "      <td>0.067842</td>\n",
       "      <td>...</td>\n",
       "      <td>0.077193</td>\n",
       "      <td>0.076936</td>\n",
       "      <td>0.076582</td>\n",
       "      <td>0.076728</td>\n",
       "      <td>0.076516</td>\n",
       "      <td>0.075703</td>\n",
       "      <td>0.075252</td>\n",
       "      <td>0.074950</td>\n",
       "      <td>0.074795</td>\n",
       "      <td>0.074900</td>\n",
       "    </tr>\n",
       "    <tr>\n",
       "      <th>4</th>\n",
       "      <td>0.075200</td>\n",
       "      <td>0.047947</td>\n",
       "      <td>0.038910</td>\n",
       "      <td>0.054962</td>\n",
       "      <td>0.071838</td>\n",
       "      <td>0.075585</td>\n",
       "      <td>0.066497</td>\n",
       "      <td>0.063452</td>\n",
       "      <td>0.095525</td>\n",
       "      <td>0.099429</td>\n",
       "      <td>...</td>\n",
       "      <td>0.070101</td>\n",
       "      <td>0.069837</td>\n",
       "      <td>0.069617</td>\n",
       "      <td>0.069944</td>\n",
       "      <td>0.069658</td>\n",
       "      <td>0.068802</td>\n",
       "      <td>0.068408</td>\n",
       "      <td>0.067899</td>\n",
       "      <td>0.067480</td>\n",
       "      <td>0.067600</td>\n",
       "    </tr>\n",
       "  </tbody>\n",
       "</table>\n",
       "<p>5 rows × 2151 columns</p>\n",
       "</div>"
      ],
      "text/plain": [
       "       X350      X351      X352      X353      X354      X355      X356  \\\n",
       "0  0.066393  0.041197  0.046172  0.070903  0.072898  0.076800  0.076229   \n",
       "1  0.089343  0.047622  0.036665  0.063613  0.087790  0.076265  0.059558   \n",
       "2  0.073535  0.035367  0.028720  0.058362  0.078162  0.076759  0.070137   \n",
       "3  0.053849  0.013933  0.021878  0.062837  0.067202  0.072869  0.063967   \n",
       "4  0.075200  0.047947  0.038910  0.054962  0.071838  0.075585  0.066497   \n",
       "\n",
       "       X357      X358      X359  ...     X2491     X2492     X2493     X2494  \\\n",
       "0  0.077193  0.094269  0.097625  ...  0.076210  0.076144  0.075867  0.075773   \n",
       "1  0.060486  0.090054  0.090268  ...  0.083926  0.083274  0.082861  0.082943   \n",
       "2  0.072471  0.091935  0.087597  ...  0.062543  0.061958  0.061579  0.061323   \n",
       "3  0.053106  0.076691  0.067842  ...  0.077193  0.076936  0.076582  0.076728   \n",
       "4  0.063452  0.095525  0.099429  ...  0.070101  0.069837  0.069617  0.069944   \n",
       "\n",
       "      X2495     X2496     X2497     X2498     X2499     X2500  \n",
       "0  0.075515  0.074958  0.074545  0.074182  0.073884  0.073802  \n",
       "1  0.082536  0.081516  0.081260  0.081504  0.081208  0.081202  \n",
       "2  0.061225  0.061467  0.061353  0.061195  0.061081  0.060759  \n",
       "3  0.076516  0.075703  0.075252  0.074950  0.074795  0.074900  \n",
       "4  0.069658  0.068802  0.068408  0.067899  0.067480  0.067600  \n",
       "\n",
       "[5 rows x 2151 columns]"
      ]
     },
     "execution_count": 195,
     "metadata": {},
     "output_type": "execute_result"
    }
   ],
   "source": [
    "X.head()"
   ]
  },
  {
   "cell_type": "code",
   "execution_count": 196,
   "id": "75442cd7",
   "metadata": {},
   "outputs": [
    {
     "data": {
      "text/plain": [
       "0    456.800\n",
       "1    268.475\n",
       "2    391.975\n",
       "3    488.650\n",
       "4    429.325\n",
       "Name: CHL, dtype: float64"
      ]
     },
     "execution_count": 196,
     "metadata": {},
     "output_type": "execute_result"
    }
   ],
   "source": [
    "y.head()"
   ]
  },
  {
   "cell_type": "code",
   "execution_count": 197,
   "id": "8482ddfb",
   "metadata": {},
   "outputs": [
    {
     "data": {
      "text/plain": [
       "428.700    2\n",
       "427.025    2\n",
       "471.550    2\n",
       "486.675    2\n",
       "445.250    2\n",
       "          ..\n",
       "296.675    1\n",
       "495.100    1\n",
       "460.100    1\n",
       "404.650    1\n",
       "401.250    1\n",
       "Name: CHL, Length: 312, dtype: int64"
      ]
     },
     "execution_count": 197,
     "metadata": {},
     "output_type": "execute_result"
    }
   ],
   "source": [
    "pd.value_counts(data[\"CHL\"], dropna= False)"
   ]
  },
  {
   "cell_type": "code",
   "execution_count": 198,
   "id": "360e9f45",
   "metadata": {},
   "outputs": [
    {
     "data": {
      "text/html": [
       "<style>#sk-container-id-4 {color: black;background-color: white;}#sk-container-id-4 pre{padding: 0;}#sk-container-id-4 div.sk-toggleable {background-color: white;}#sk-container-id-4 label.sk-toggleable__label {cursor: pointer;display: block;width: 100%;margin-bottom: 0;padding: 0.3em;box-sizing: border-box;text-align: center;}#sk-container-id-4 label.sk-toggleable__label-arrow:before {content: \"▸\";float: left;margin-right: 0.25em;color: #696969;}#sk-container-id-4 label.sk-toggleable__label-arrow:hover:before {color: black;}#sk-container-id-4 div.sk-estimator:hover label.sk-toggleable__label-arrow:before {color: black;}#sk-container-id-4 div.sk-toggleable__content {max-height: 0;max-width: 0;overflow: hidden;text-align: left;background-color: #f0f8ff;}#sk-container-id-4 div.sk-toggleable__content pre {margin: 0.2em;color: black;border-radius: 0.25em;background-color: #f0f8ff;}#sk-container-id-4 input.sk-toggleable__control:checked~div.sk-toggleable__content {max-height: 200px;max-width: 100%;overflow: auto;}#sk-container-id-4 input.sk-toggleable__control:checked~label.sk-toggleable__label-arrow:before {content: \"▾\";}#sk-container-id-4 div.sk-estimator input.sk-toggleable__control:checked~label.sk-toggleable__label {background-color: #d4ebff;}#sk-container-id-4 div.sk-label input.sk-toggleable__control:checked~label.sk-toggleable__label {background-color: #d4ebff;}#sk-container-id-4 input.sk-hidden--visually {border: 0;clip: rect(1px 1px 1px 1px);clip: rect(1px, 1px, 1px, 1px);height: 1px;margin: -1px;overflow: hidden;padding: 0;position: absolute;width: 1px;}#sk-container-id-4 div.sk-estimator {font-family: monospace;background-color: #f0f8ff;border: 1px dotted black;border-radius: 0.25em;box-sizing: border-box;margin-bottom: 0.5em;}#sk-container-id-4 div.sk-estimator:hover {background-color: #d4ebff;}#sk-container-id-4 div.sk-parallel-item::after {content: \"\";width: 100%;border-bottom: 1px solid gray;flex-grow: 1;}#sk-container-id-4 div.sk-label:hover label.sk-toggleable__label {background-color: #d4ebff;}#sk-container-id-4 div.sk-serial::before {content: \"\";position: absolute;border-left: 1px solid gray;box-sizing: border-box;top: 0;bottom: 0;left: 50%;z-index: 0;}#sk-container-id-4 div.sk-serial {display: flex;flex-direction: column;align-items: center;background-color: white;padding-right: 0.2em;padding-left: 0.2em;position: relative;}#sk-container-id-4 div.sk-item {position: relative;z-index: 1;}#sk-container-id-4 div.sk-parallel {display: flex;align-items: stretch;justify-content: center;background-color: white;position: relative;}#sk-container-id-4 div.sk-item::before, #sk-container-id-4 div.sk-parallel-item::before {content: \"\";position: absolute;border-left: 1px solid gray;box-sizing: border-box;top: 0;bottom: 0;left: 50%;z-index: -1;}#sk-container-id-4 div.sk-parallel-item {display: flex;flex-direction: column;z-index: 1;position: relative;background-color: white;}#sk-container-id-4 div.sk-parallel-item:first-child::after {align-self: flex-end;width: 50%;}#sk-container-id-4 div.sk-parallel-item:last-child::after {align-self: flex-start;width: 50%;}#sk-container-id-4 div.sk-parallel-item:only-child::after {width: 0;}#sk-container-id-4 div.sk-dashed-wrapped {border: 1px dashed gray;margin: 0 0.4em 0.5em 0.4em;box-sizing: border-box;padding-bottom: 0.4em;background-color: white;}#sk-container-id-4 div.sk-label label {font-family: monospace;font-weight: bold;display: inline-block;line-height: 1.2em;}#sk-container-id-4 div.sk-label-container {text-align: center;}#sk-container-id-4 div.sk-container {/* jupyter's `normalize.less` sets `[hidden] { display: none; }` but bootstrap.min.css set `[hidden] { display: none !important; }` so we also need the `!important` here to be able to override the default hidden behavior on the sphinx rendered scikit-learn.org. See: https://github.com/scikit-learn/scikit-learn/issues/21755 */display: inline-block !important;position: relative;}#sk-container-id-4 div.sk-text-repr-fallback {display: none;}</style><div id=\"sk-container-id-4\" class=\"sk-top-container\"><div class=\"sk-text-repr-fallback\"><pre>LinearRegression()</pre><b>In a Jupyter environment, please rerun this cell to show the HTML representation or trust the notebook. <br />On GitHub, the HTML representation is unable to render, please try loading this page with nbviewer.org.</b></div><div class=\"sk-container\" hidden><div class=\"sk-item\"><div class=\"sk-estimator sk-toggleable\"><input class=\"sk-toggleable__control sk-hidden--visually\" id=\"sk-estimator-id-4\" type=\"checkbox\" checked><label for=\"sk-estimator-id-4\" class=\"sk-toggleable__label sk-toggleable__label-arrow\">LinearRegression</label><div class=\"sk-toggleable__content\"><pre>LinearRegression()</pre></div></div></div></div></div>"
      ],
      "text/plain": [
       "LinearRegression()"
      ]
     },
     "execution_count": 198,
     "metadata": {},
     "output_type": "execute_result"
    }
   ],
   "source": [
    "model = LinearRegression()\n",
    "model.fit(X, y)"
   ]
  },
  {
   "cell_type": "code",
   "execution_count": 199,
   "id": "991cdc99",
   "metadata": {},
   "outputs": [
    {
     "data": {
      "text/plain": [
       "318"
      ]
     },
     "execution_count": 199,
     "metadata": {},
     "output_type": "execute_result"
    }
   ],
   "source": [
    "len(X)"
   ]
  },
  {
   "cell_type": "code",
   "execution_count": 200,
   "id": "d13858f0",
   "metadata": {
    "scrolled": true
   },
   "outputs": [
    {
     "name": "stdout",
     "output_type": "stream",
     "text": [
      "0       456.800\n",
      "1       268.475\n",
      "2       391.975\n",
      "3       488.650\n",
      "4       429.325\n",
      "         ...   \n",
      "1636    402.950\n",
      "1643    492.100\n",
      "1645    475.525\n",
      "1649    500.875\n",
      "1655    401.250\n",
      "Name: CHL, Length: 318, dtype: float64\n"
     ]
    }
   ],
   "source": [
    "print(y)"
   ]
  },
  {
   "cell_type": "code",
   "execution_count": 201,
   "id": "f805f76b",
   "metadata": {},
   "outputs": [
    {
     "name": "stdout",
     "output_type": "stream",
     "text": [
      "          X350      X351      X352      X353      X354      X355      X356  \\\n",
      "0     0.066393  0.041197  0.046172  0.070903  0.072898  0.076800  0.076229   \n",
      "1     0.089343  0.047622  0.036665  0.063613  0.087790  0.076265  0.059558   \n",
      "2     0.073535  0.035367  0.028720  0.058362  0.078162  0.076759  0.070137   \n",
      "3     0.053849  0.013933  0.021878  0.062837  0.067202  0.072869  0.063967   \n",
      "4     0.075200  0.047947  0.038910  0.054962  0.071838  0.075585  0.066497   \n",
      "...        ...       ...       ...       ...       ...       ...       ...   \n",
      "1636  0.086108  0.081353  0.069357  0.066578  0.101631  0.085885  0.060648   \n",
      "1643  0.107635  0.088383  0.070858  0.075370  0.111884  0.094643  0.058673   \n",
      "1645  0.115502  0.108385  0.094599  0.092437  0.127469  0.118700  0.088778   \n",
      "1649  0.115839  0.081779  0.075903  0.100481  0.126021  0.114220  0.080029   \n",
      "1655  0.097722  0.085333  0.080176  0.081388  0.087126  0.091395  0.068312   \n",
      "\n",
      "          X357      X358      X359  ...     X2491     X2492     X2493  \\\n",
      "0     0.077193  0.094269  0.097625  ...  0.076210  0.076144  0.075867   \n",
      "1     0.060486  0.090054  0.090268  ...  0.083926  0.083274  0.082861   \n",
      "2     0.072471  0.091935  0.087597  ...  0.062543  0.061958  0.061579   \n",
      "3     0.053106  0.076691  0.067842  ...  0.077193  0.076936  0.076582   \n",
      "4     0.063452  0.095525  0.099429  ...  0.070101  0.069837  0.069617   \n",
      "...        ...       ...       ...  ...       ...       ...       ...   \n",
      "1636  0.054770  0.082188  0.094269  ...  0.043043  0.043060  0.042744   \n",
      "1643  0.043931  0.091941  0.100379  ...  0.038872  0.038490  0.038244   \n",
      "1645  0.068324  0.096784  0.108671  ...  0.064406  0.063901  0.063584   \n",
      "1649  0.054178  0.087045  0.101387  ...  0.042486  0.041760  0.041436   \n",
      "1655  0.034167  0.054285  0.080575  ...  0.038487  0.037704  0.037368   \n",
      "\n",
      "         X2494     X2495     X2496     X2497     X2498     X2499     X2500  \n",
      "0     0.075773  0.075515  0.074958  0.074545  0.074182  0.073884  0.073802  \n",
      "1     0.082943  0.082536  0.081516  0.081260  0.081504  0.081208  0.081202  \n",
      "2     0.061323  0.061225  0.061467  0.061353  0.061195  0.061081  0.060759  \n",
      "3     0.076728  0.076516  0.075703  0.075252  0.074950  0.074795  0.074900  \n",
      "4     0.069944  0.069658  0.068802  0.068408  0.067899  0.067480  0.067600  \n",
      "...        ...       ...       ...       ...       ...       ...       ...  \n",
      "1636  0.041884  0.041573  0.041442  0.041328  0.041702  0.041721  0.041484  \n",
      "1643  0.038411  0.038173  0.037371  0.037194  0.037288  0.037218  0.037615  \n",
      "1645  0.063678  0.063664  0.063643  0.063487  0.063558  0.063160  0.061917  \n",
      "1649  0.041248  0.041065  0.041263  0.041149  0.040729  0.040538  0.040378  \n",
      "1655  0.037215  0.037206  0.037790  0.037640  0.036956  0.036844  0.036644  \n",
      "\n",
      "[318 rows x 2151 columns]\n"
     ]
    }
   ],
   "source": [
    "print(X)"
   ]
  },
  {
   "cell_type": "code",
   "execution_count": null,
   "id": "703d1ee4",
   "metadata": {
    "scrolled": true
   },
   "outputs": [
    {
     "data": {
      "text/plain": [
       "<AxesSubplot:ylabel='Frequency'>"
      ]
     },
     "execution_count": 202,
     "metadata": {},
     "output_type": "execute_result"
    }
   ],
   "source": [
    "import matplotlib.pyplot as plt\n",
    "plt.figure(figsize = (318, 20))\n",
    "data['CHL'].plot(kind = \"hist\")"
   ]
  },
  {
   "cell_type": "code",
   "execution_count": null,
   "id": "26724d85",
   "metadata": {},
   "outputs": [],
   "source": [
    "plt.figure(figsize=(318, 2151))\n",
    "cor = data.corr()\n",
    "sns.heatmap(cor, annot=True, cmap=plt.cm.RdYlBu)\n",
    "plt.show()"
   ]
  },
  {
   "cell_type": "code",
   "execution_count": null,
   "id": "a14d14a4",
   "metadata": {
    "scrolled": false
   },
   "outputs": [],
   "source": [
    "slope, intercept, r_value, p_value, std_err = linregress(X, y)\n",
    "y_pred = intercept + slope * x"
   ]
  },
  {
   "cell_type": "code",
   "execution_count": null,
   "id": "1e47f1ba",
   "metadata": {},
   "outputs": [],
   "source": [
    "cv = RepeatedKFold(n_splits=10, n_repeats=3, random_state=1)"
   ]
  },
  {
   "cell_type": "code",
   "execution_count": null,
   "id": "9d5bd65b",
   "metadata": {},
   "outputs": [],
   "source": [
    "mse = []\n",
    "n = len(X)"
   ]
  },
  {
   "cell_type": "code",
   "execution_count": null,
   "id": "26bc2e4f",
   "metadata": {},
   "outputs": [],
   "source": [
    "score = -1*model_selection.cross_val_score(PLSRegression(n_components=1), np.ones((n,1)), y, cv=cv, scoring='neg_mean_squared_error').mean()    \n",
    "mse.append(score)\n",
    "np.seterr(divide='ignore', invalid='ignore')"
   ]
  },
  {
   "cell_type": "code",
   "execution_count": null,
   "id": "6b199c15",
   "metadata": {
    "scrolled": true
   },
   "outputs": [],
   "source": [
    "for i in np.arange(1, 6): \n",
    "    pld = PLSRegression(n_components=i)\n",
    "    score = -1*model_selection.cross_val_score(pls, scale(X), y, cv=cv, \n",
    "               scorings='neg_mean_squared_error').mean()\n",
    "    mse.append(score)\n",
    "    \n",
    "plt.plot(mse)\n",
    "plt.xlabel('Number of PLS Components')\n",
    "plt.ylabel('MSE')\n",
    "plt.title('hp')"
   ]
  },
  {
   "cell_type": "code",
   "execution_count": null,
   "id": "a72db631",
   "metadata": {},
   "outputs": [],
   "source": [
    "X_train, X_test, y_train, y_test = train_test_split(X,y,test_size=0.4, random_state=0)"
   ]
  },
  {
   "cell_type": "code",
   "execution_count": null,
   "id": "560f1f59",
   "metadata": {
    "scrolled": true
   },
   "outputs": [],
   "source": [
    "pls = PLSRegression(n_components=2)\n",
    "pls.fit(scale(X_train), y_train)\n",
    "\n",
    "np.sqrt(mean_squared_error(y_test, pls.perdict(scale(X_test))))"
   ]
  },
  {
   "cell_type": "code",
   "execution_count": null,
   "id": "51be8bcd",
   "metadata": {},
   "outputs": [],
   "source": []
  }
 ],
 "metadata": {
  "kernelspec": {
   "display_name": "Python 3 (ipykernel)",
   "language": "python",
   "name": "python3"
  },
  "language_info": {
   "codemirror_mode": {
    "name": "ipython",
    "version": 3
   },
   "file_extension": ".py",
   "mimetype": "text/x-python",
   "name": "python",
   "nbconvert_exporter": "python",
   "pygments_lexer": "ipython3",
   "version": "3.9.12"
  }
 },
 "nbformat": 4,
 "nbformat_minor": 5
}
